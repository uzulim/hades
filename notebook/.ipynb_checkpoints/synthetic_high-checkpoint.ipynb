{
 "cells": [
  {
   "cell_type": "code",
   "execution_count": 1,
   "metadata": {},
   "outputs": [
    {
     "name": "stderr",
     "output_type": "stream",
     "text": [
      "/Users/sunghyunlim/anaconda3/lib/python3.7/site-packages/statsmodels/tools/_testing.py:19: FutureWarning: pandas.util.testing is deprecated. Use the functions in the public API at pandas.testing instead.\n",
      "  import pandas.util.testing as tm\n"
     ]
    }
   ],
   "source": [
    "import math\n",
    "import numpy as np\n",
    "import time\n",
    "import os\n",
    "import pickle\n",
    "from matplotlib import cm\n",
    "import matplotlib.pyplot as plt\n",
    "from sklearn.metrics import roc_curve, auc\n",
    "\n",
    "from hades import misc, gen\n",
    "from hades import Hades, hp_grid"
   ]
  },
  {
   "cell_type": "code",
   "execution_count": 2,
   "metadata": {},
   "outputs": [],
   "source": [
    "timestamp_now = misc.timestamp()"
   ]
  },
  {
   "cell_type": "markdown",
   "metadata": {},
   "source": [
    "# Two disks"
   ]
  },
  {
   "cell_type": "code",
   "execution_count": 3,
   "metadata": {},
   "outputs": [],
   "source": [
    "# Setting\n",
    "N_base = 15000\n",
    "N_mult = 1.5\n",
    "r_base = 0.1\n",
    "d_arr = np.arange(1, 6)\n",
    "r_all = [np.power(r_base, 1/d) for d in d_arr]\n",
    "N_all = [int(N_base * (N_mult ** d)) for d in d_arr]\n",
    "\n",
    "# Generate samples\n",
    "X_all = []\n",
    "axis_spans_all = []\n",
    "for i, k in enumerate(d_arr):\n",
    "    N_now = N_all[i]\n",
    "    r_now = r_all[i]\n",
    "    ambient_dim = 3*k\n",
    "    axis_spans = [list(range(0, 2*k)), list(range(k, 3*k))]\n",
    "    axis_spans_all.append(axis_spans)\n",
    "    X = gen.orth('disk', N_now, axis_spans = axis_spans, ambient_dim=3*k)\n",
    "    X_all.append(X)"
   ]
  },
  {
   "cell_type": "code",
   "execution_count": 4,
   "metadata": {
    "scrolled": true
   },
   "outputs": [
    {
     "name": "stdout",
     "output_type": "stream",
     "text": [
      "Doing 0...\n",
      "Time taken = 19 seconds\n",
      "Doing 1...\n",
      "Time taken = 52 seconds\n",
      "Doing 2...\n",
      "Time taken = 156 seconds\n",
      "Doing 3...\n",
      "Time taken = 686 seconds\n",
      "Doing 4...\n",
      "Time taken = 2398 seconds\n"
     ]
    }
   ],
   "source": [
    "# Train classifiers\n",
    "clfs = [Hades() for d in d_arr]\n",
    "for i, clf in enumerate(clfs):\n",
    "    print(f'Doing {i}...')\n",
    "    X = X_all[i]\n",
    "    r = r_all[i]\n",
    "    hp = hp_grid(r=r)\n",
    "    clf.fit(X, hp=hp, prop=1.0)\n",
    "    print(f'Time taken = {round(clf.fit_time)} seconds')"
   ]
  },
  {
   "cell_type": "code",
   "execution_count": 5,
   "metadata": {},
   "outputs": [],
   "source": [
    "# Predict\n",
    "outputs = []\n",
    "for i, clf in enumerate(clfs):\n",
    "    X = X_all[i]\n",
    "    output = clf.score_samples(X)\n",
    "    outputs.append(output)"
   ]
  },
  {
   "cell_type": "code",
   "execution_count": 6,
   "metadata": {},
   "outputs": [],
   "source": [
    "# Labels\n",
    "near_mult = 0.5\n",
    "label_all = []\n",
    "for i, k in enumerate(d_arr):\n",
    "    X = X_all[i]\n",
    "    N_now = N_all[i]\n",
    "    r_now = r_all[i]\n",
    "    ambient_dim = 3*k\n",
    "    axis_spans = [list(range(0, 2*k)), list(range(k, 3*k))]\n",
    "    axis_spans_all.append(axis_spans)\n",
    "    \n",
    "    # Count axes with indices appearing only once\n",
    "    axis_unique_inds_counter = np.zeros(ambient_dim)\n",
    "    for ind in range(ambient_dim):\n",
    "        for axis_span in axis_spans:\n",
    "            if ind in axis_span:\n",
    "                axis_unique_inds_counter[ind] += 1\n",
    "    axis_unique_inds = np.nonzero(axis_unique_inds_counter == 1)[0]\n",
    "    \n",
    "    # Find labels for singularity\n",
    "    label_bdy = np.linalg.norm(X, axis = 1) > 1 - r_now * near_mult\n",
    "    label_int = np.linalg.norm(X[:, axis_unique_inds], axis = 1) < r_now * near_mult\n",
    "    label = np.logical_or(label_bdy, label_int)\n",
    "    label_all.append(label)"
   ]
  },
  {
   "cell_type": "code",
   "execution_count": 7,
   "metadata": {},
   "outputs": [
    {
     "name": "stdout",
     "output_type": "stream",
     "text": [
      "For k = 1, auc = 0.95\n",
      "For k = 2, auc = 0.93\n",
      "For k = 3, auc = 0.94\n",
      "For k = 4, auc = 0.95\n",
      "For k = 5, auc = 0.96\n"
     ]
    },
    {
     "data": {
      "image/png": "[encoded data removed]",
      "text/plain": [
       "<Figure size 360x360 with 1 Axes>"
      ]
     },
     "metadata": {
      "needs_background": "light"
     },
     "output_type": "display_data"
    },
    {
     "data": {
      "text/plain": [
       "<Figure size 432x288 with 0 Axes>"
      ]
     },
     "metadata": {},
     "output_type": "display_data"
    }
   ],
   "source": [
    "# Plot output\n",
    "plt.figure(figsize = (5,5))\n",
    "auc_vals = []\n",
    "for i, d in enumerate(d_arr):\n",
    "    X = X_all[i]\n",
    "    label = label_all[i]\n",
    "    score = outputs[i]\n",
    "    fpr, tpr, _ = roc_curve(label, score)\n",
    "    plt.plot(fpr, tpr, label = f'd={d}', linewidth = 2, c = cm.viridis(i / d_arr.size))\n",
    "    plt.suptitle(f'Two 2d-dim. disks', fontsize = 20)\n",
    "    auc_out = auc(fpr, tpr)\n",
    "    auc_vals.append(auc_out)\n",
    "    print(f'For k = {d}, auc = {round(auc_out, 2)}')\n",
    "plt.legend()\n",
    "plt.savefig(f'output/Two disks ROC {timestamp_now}.pdf')\n",
    "plt.show()\n",
    "plt.clf()"
   ]
  },
  {
   "cell_type": "code",
   "execution_count": 8,
   "metadata": {},
   "outputs": [
    {
     "data": {
      "image/png": "[encoded data removed]",
      "text/plain": [
       "<Figure size 360x360 with 1 Axes>"
      ]
     },
     "metadata": {
      "needs_background": "light"
     },
     "output_type": "display_data"
    },
    {
     "data": {
      "text/plain": [
       "<Figure size 432x288 with 0 Axes>"
      ]
     },
     "metadata": {},
     "output_type": "display_data"
    }
   ],
   "source": [
    "# auc_vals = [0.95, 0.91, 0.94, 0.95, 0.96]\n",
    "\n",
    "plt.figure().set_size_inches(5, 5)\n",
    "plt.suptitle('AUC, Two 2d-disks', fontsize=20)\n",
    "plt.ylim([0, 1.05])\n",
    "plt.xticks([1,2,3,4,5])\n",
    "plt.xlabel('d', fontsize=15)\n",
    "plt.ylabel('AUC', fontsize=15)\n",
    "plt.plot(d_arr, auc_vals, marker = 'o')\n",
    "\n",
    "plt.savefig(f'output/Two disks AUC {timestamp_now}.pdf')\n",
    "plt.show()\n",
    "plt.clf()"
   ]
  },
  {
   "cell_type": "markdown",
   "metadata": {},
   "source": [
    "# Two intersecting spheres"
   ]
  },
  {
   "cell_type": "code",
   "execution_count": 9,
   "metadata": {},
   "outputs": [],
   "source": [
    "# Setting\n",
    "N_base = 15000\n",
    "N_mult = 1.5\n",
    "r_base = 0.03\n",
    "d_arr = np.arange(1, 6)\n",
    "r_all = [np.power(r_base, 1/d) for d in d_arr]\n",
    "N_all = [int(N_base * (N_mult ** d)) for d in d_arr]\n",
    "\n",
    "# Generate samples\n",
    "X_all = []\n",
    "for i, d in enumerate(d_arr):\n",
    "    N_now = N_all[i]\n",
    "    r_now = r_all[i]\n",
    "\n",
    "    shift1 = np.zeros(d+1)\n",
    "    shift2 = np.zeros(d+1)\n",
    "    shift1[0] = 0.5\n",
    "    shift2[0] = -0.5\n",
    "    \n",
    "    X1 = gen.sphere(N_now, d) + shift1\n",
    "    X2 = gen.sphere(N_now, d) + shift2\n",
    "    X = np.vstack([X1, X2])\n",
    "    inds_shuffle = np.random.choice(2*N_now, 2*N_now, replace=False)\n",
    "    X = X[inds_shuffle]\n",
    "    \n",
    "    X_all.append(X)"
   ]
  },
  {
   "cell_type": "code",
   "execution_count": 10,
   "metadata": {},
   "outputs": [
    {
     "name": "stdout",
     "output_type": "stream",
     "text": [
      "Doing 0...\n",
      "Time taken = 45 seconds\n",
      "Doing 1...\n",
      "Time taken = 113 seconds\n",
      "Doing 2...\n",
      "Time taken = 289 seconds\n",
      "Doing 3...\n",
      "Time taken = 830 seconds\n",
      "Doing 4...\n",
      "Time taken = 2539 seconds\n"
     ]
    }
   ],
   "source": [
    "# Train classifiers\n",
    "clfs = [Hades() for d in d_arr]\n",
    "for i, clf in enumerate(clfs):\n",
    "    print(f'Doing {i}...')\n",
    "    X = X_all[i]\n",
    "    r = r_all[i]\n",
    "    hp = hp_grid(r=r)\n",
    "    clf.fit(X, hp=hp, prop=1.0)\n",
    "    print(f'Time taken = {round(clf.fit_time)} seconds')"
   ]
  },
  {
   "cell_type": "code",
   "execution_count": 11,
   "metadata": {},
   "outputs": [],
   "source": [
    "# Predict\n",
    "outputs = []\n",
    "for i, clf in enumerate(clfs):\n",
    "    X = X_all[i]\n",
    "    output = clf.score_samples(X)\n",
    "    outputs.append(output)"
   ]
  },
  {
   "cell_type": "code",
   "execution_count": 12,
   "metadata": {},
   "outputs": [],
   "source": [
    "# Labels\n",
    "near_mult = 0.5\n",
    "label_all = []\n",
    "for i, d in enumerate(d_arr):\n",
    "    r_now = r_all[i]\n",
    "    X_now = X_all[i]\n",
    "    \n",
    "    shift1 = np.zeros(d+1)\n",
    "    shift2 = np.zeros(d+1)\n",
    "    shift1[0] = 0.5\n",
    "    shift2[0] = -0.5\n",
    "    \n",
    "    # Find labels for singularity\n",
    "    label1 = np.abs( np.linalg.norm(X_now - shift1, axis=1) -1) < r_now * near_mult\n",
    "    label2 = np.abs( np.linalg.norm(X_now - shift2, axis=1) -1) < r_now * near_mult\n",
    "    label = np.logical_and(label1, label2)\n",
    "    label_all.append(label)"
   ]
  },
  {
   "cell_type": "code",
   "execution_count": 13,
   "metadata": {},
   "outputs": [
    {
     "name": "stdout",
     "output_type": "stream",
     "text": [
      "For d = 1, auc = 0.99\n",
      "For d = 2, auc = 0.93\n",
      "For d = 3, auc = 0.89\n",
      "For d = 4, auc = 0.89\n",
      "For d = 5, auc = 0.89\n"
     ]
    },
    {
     "data": {
      "image/png": "[encoded data removed]",
      "text/plain": [
       "<Figure size 360x360 with 1 Axes>"
      ]
     },
     "metadata": {
      "needs_background": "light"
     },
     "output_type": "display_data"
    },
    {
     "data": {
      "text/plain": [
       "<Figure size 432x288 with 0 Axes>"
      ]
     },
     "metadata": {},
     "output_type": "display_data"
    }
   ],
   "source": [
    "# Plot output\n",
    "plt.figure(figsize = (5,5))\n",
    "auc_vals = []\n",
    "for i, d in enumerate(d_arr):\n",
    "    X = X_all[i]\n",
    "    label = label_all[i]\n",
    "    score = outputs[i]\n",
    "    fpr, tpr, _ = roc_curve(label, score)\n",
    "    plt.plot(fpr, tpr, label = f'd={d}', linewidth = 2, c = cm.viridis(i / d_arr.size))\n",
    "    plt.suptitle(f'Two d-dim. spheres', fontsize = 20)\n",
    "    auc_out = auc(fpr, tpr)\n",
    "    auc_vals.append(auc_out)\n",
    "    print(f'For d = {d}, auc = {round(auc_out, 2)}')\n",
    "plt.legend()\n",
    "\n",
    "plt.savefig(f'output/Two spheres ROC {timestamp_now}.pdf')\n",
    "plt.show()\n",
    "plt.clf()"
   ]
  },
  {
   "cell_type": "code",
   "execution_count": 14,
   "metadata": {},
   "outputs": [
    {
     "data": {
      "image/png": "[encoded data removed]",
      "text/plain": [
       "<Figure size 360x360 with 1 Axes>"
      ]
     },
     "metadata": {
      "needs_background": "light"
     },
     "output_type": "display_data"
    },
    {
     "data": {
      "text/plain": [
       "<Figure size 432x288 with 0 Axes>"
      ]
     },
     "metadata": {},
     "output_type": "display_data"
    }
   ],
   "source": [
    "# auc_vals = [0.99, 0.93, 0.89, 0.89, 0.89]\n",
    "\n",
    "plt.figure().set_size_inches(5, 5)\n",
    "plt.suptitle('AUC, Two d-spheres', fontsize=20)\n",
    "plt.ylim([0, 1.05])\n",
    "plt.xticks([1,2,3,4,5])\n",
    "plt.xlabel('d', fontsize=15)\n",
    "plt.ylabel('AUC', fontsize=15)\n",
    "plt.plot(d_arr, auc_vals, marker = 'o')\n",
    "\n",
    "plt.savefig(f'output/Two spheres AUC {timestamp_now}.pdf')\n",
    "plt.show()\n",
    "plt.clf()"
   ]
  },
  {
   "cell_type": "markdown",
   "metadata": {},
   "source": [
    "# Unit ball"
   ]
  },
  {
   "cell_type": "code",
   "execution_count": 15,
   "metadata": {},
   "outputs": [],
   "source": [
    "# Setting\n",
    "N_base = 15000\n",
    "N_mult = 1.5\n",
    "r_base = 0.02\n",
    "d_arr = np.arange(1, 6)\n",
    "r_all = [np.power(r_base, 1/d) for d in d_arr]\n",
    "N_all = [int(N_base * (N_mult ** d)) for d in d_arr]\n",
    "\n",
    "# Generate samples\n",
    "X_all = []\n",
    "for i, d in enumerate(d_arr):\n",
    "    N_now = N_all[i]\n",
    "    r_now = r_all[i]\n",
    "    \n",
    "    X = gen.disk(N_now, d)\n",
    "    X_all.append(X)"
   ]
  },
  {
   "cell_type": "code",
   "execution_count": 16,
   "metadata": {},
   "outputs": [
    {
     "name": "stdout",
     "output_type": "stream",
     "text": [
      "Doing 0...\n",
      "Time taken = 34 seconds\n",
      "Doing 1...\n",
      "Time taken = 191 seconds\n",
      "Doing 2...\n",
      "Time taken = 586 seconds\n",
      "Doing 3...\n",
      "Time taken = 1822 seconds\n",
      "Doing 4...\n",
      "Time taken = 5850 seconds\n"
     ]
    }
   ],
   "source": [
    "# Train classifiers\n",
    "clfs = [Hades() for d in d_arr]\n",
    "for i, clf in enumerate(clfs):\n",
    "    print(f'Doing {i}...')\n",
    "    X = X_all[i]\n",
    "    r = r_all[i]\n",
    "    hp = hp_grid(r=r)\n",
    "    clf.fit(X, hp=hp, prop=1.0)\n",
    "    print(f'Time taken = {round(clf.fit_time)} seconds')"
   ]
  },
  {
   "cell_type": "code",
   "execution_count": 17,
   "metadata": {},
   "outputs": [],
   "source": [
    "# Labels\n",
    "near_mult = 0.5\n",
    "label_all = []\n",
    "for i, d in enumerate(d_arr):\n",
    "    r_now = r_all[i]\n",
    "    X_now = X_all[i]\n",
    "    \n",
    "    # Find labels for singularity\n",
    "    label = np.abs(1 - np.linalg.norm(X_now, axis=1)) < r_now * near_mult\n",
    "    label_all.append(label)"
   ]
  },
  {
   "cell_type": "code",
   "execution_count": 18,
   "metadata": {},
   "outputs": [],
   "source": [
    "# Predict\n",
    "outputs = []\n",
    "for i, clf in enumerate(clfs):\n",
    "    X = X_all[i]\n",
    "    output = clf.score_samples(X)\n",
    "    outputs.append(output)"
   ]
  },
  {
   "cell_type": "code",
   "execution_count": 19,
   "metadata": {},
   "outputs": [
    {
     "name": "stdout",
     "output_type": "stream",
     "text": [
      "For d = 1, auc = 1.0\n",
      "For d = 2, auc = 1.0\n",
      "For d = 3, auc = 1.0\n",
      "For d = 4, auc = 1.0\n",
      "For d = 5, auc = 1.0\n"
     ]
    },
    {
     "data": {
      "image/png": "[encoded data removed]",
      "text/plain": [
       "<Figure size 360x360 with 1 Axes>"
      ]
     },
     "metadata": {
      "needs_background": "light"
     },
     "output_type": "display_data"
    },
    {
     "data": {
      "text/plain": [
       "<Figure size 432x288 with 0 Axes>"
      ]
     },
     "metadata": {},
     "output_type": "display_data"
    }
   ],
   "source": [
    "# Plot output\n",
    "plt.figure(figsize = (5,5))\n",
    "auc_vals = []\n",
    "for i, d in enumerate(d_arr):\n",
    "    X = X_all[i]\n",
    "    label = label_all[i]\n",
    "    score = outputs[i]\n",
    "    fpr, tpr, _ = roc_curve(label, score)\n",
    "    plt.plot(fpr, tpr, label = f'd={d}', linewidth = 2, c = cm.viridis(i / d_arr.size))\n",
    "    plt.suptitle(f'd-dim. ball', fontsize = 20)\n",
    "    auc_out = auc(fpr, tpr)\n",
    "    auc_vals.append(auc_out)\n",
    "    print(f'For d = {d}, auc = {round(auc_out, 2)}')\n",
    "plt.legend()\n",
    "\n",
    "plt.savefig(f'output/Unit ball ROC {timestamp_now}.pdf')\n",
    "plt.show()\n",
    "plt.clf()"
   ]
  },
  {
   "cell_type": "code",
   "execution_count": 20,
   "metadata": {},
   "outputs": [
    {
     "data": {
      "image/png": "[encoded data removed]",
      "text/plain": [
       "<Figure size 360x360 with 1 Axes>"
      ]
     },
     "metadata": {
      "needs_background": "light"
     },
     "output_type": "display_data"
    },
    {
     "data": {
      "text/plain": [
       "<Figure size 432x288 with 0 Axes>"
      ]
     },
     "metadata": {},
     "output_type": "display_data"
    }
   ],
   "source": [
    "plt.figure().set_size_inches(5, 5)\n",
    "plt.suptitle('AUC, d-dim. ball', fontsize=20)\n",
    "plt.ylim([0, 1.05])\n",
    "# plt.xticks([1,2,3,4,5])\n",
    "plt.xlabel('d', fontsize=15)\n",
    "plt.ylabel('AUC', fontsize=15)\n",
    "plt.plot(d_arr, auc_vals, marker = 'o')\n",
    "\n",
    "plt.savefig(f'output/Unit ball AUC {timestamp_now}.pdf')\n",
    "plt.show()\n",
    "plt.clf()"
   ]
  },
  {
   "cell_type": "code",
   "execution_count": null,
   "metadata": {},
   "outputs": [],
   "source": []
  }
 ],
 "metadata": {
  "kernelspec": {
   "display_name": "Python 3",
   "language": "python",
   "name": "python3"
  },
  "language_info": {
   "codemirror_mode": {
    "name": "ipython",
    "version": 3
   },
   "file_extension": ".py",
   "mimetype": "text/x-python",
   "name": "python",
   "nbconvert_exporter": "python",
   "pygments_lexer": "ipython3",
   "version": "3.7.3"
  }
 },
 "nbformat": 4,
 "nbformat_minor": 4
}
